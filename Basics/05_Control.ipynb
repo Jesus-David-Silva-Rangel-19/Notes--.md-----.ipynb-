{
 "cells": [
  {
   "cell_type": "markdown",
   "id": "a8772cf6",
   "metadata": {},
   "source": [
    "# **Condicionales (if, elif, else)**"
   ]
  },
  {
   "cell_type": "markdown",
   "id": "ee61e968",
   "metadata": {},
   "source": [
    "# **¿Qué son las estructuras condicionales?**\n",
    "\n",
    "Son estructuras de control que permiten ejecutar un bloque de código si una condición es verdadera y otro bloque de código si la condición es falsa.\n",
    "\n",
    "---\n",
    "\n",
    "## **¿Cuál es la estructura condicional básica?**\n",
    "\n",
    "```python\n",
    "if condición:\n",
    "    'bloque de código a ejecutar si la condición es verdadera'\n",
    "else:\n",
    "    'bloque de código a ejecutar si la condición es falsa'\n",
    "``` \n",
    "\n",
    "---\n",
    "\n",
    "## **¿Cuál es la estructura condicional con múltiples opciones?**\n",
    "\n",
    "```python\n",
    "if condición1:\n",
    "    'bloque de código a ejecutar si la condición1 es verdadera'\n",
    "elif condición2:\n",
    "    'bloque de código a ejecutar si la condición2 es verdadera'\n",
    "else:\n",
    "    'bloque de código a ejecutar si ninguna de las condiciones anteriores es verdadera'\n",
    "```\n",
    "\n",
    "---\n",
    "\n",
    "## **¿Qué es la estructura `if`?**\n",
    "\n",
    "La estructura `if` es una estructura condicional que permite ejecutar un bloque de código si una condición es verdadera y otro bloque de código si la condición es falsa.\n",
    "\n",
    "---\n",
    "\n",
    "## **¿Cuál es la estructura `elif`?**\n",
    "\n",
    "La estructura `elif` es una estructura condicional que permite ejecutar un bloque de código si una condición es verdadera y otro bloque de código si la condición es falsa.\n",
    "\n",
    "### **Cuando se usa elif?**\n",
    "\n",
    "El bloque elif permite evaluar múltiples condiciones. El bloque else captura todos los casos restantes.\n",
    "\n",
    "---\n",
    "\n",
    "## **¿Cuál es la estructura `else`?**\n",
    "\n",
    "La estructura `else` es una estructura condicional que permite ejecutar un bloque de código si ninguna de las condiciones anteriores es verdadera."
   ]
  },
  {
   "cell_type": "markdown",
   "id": "d71ccf7b",
   "metadata": {},
   "source": [
    "---\n",
    "\n",
    "# **Cuál es la estructura de iteración?**\n",
    "\n",
    "```python\n",
    "for variable in iterable:\n",
    "    'bloque de código a ejecutar para cada elemento del iterable'\n",
    "```\n",
    "\n",
    "---"
   ]
  },
  {
   "cell_type": "markdown",
   "id": "9e63e408",
   "metadata": {},
   "source": [
    "# **Ejemplo de condicionales en Python**\n",
    "\n",
    "```python\n",
    "\n",
    "edad = 18\n",
    "\n",
    "# Estructura condicional básica\n",
    "if edad >= 18:\n",
    "    print(\"Eres mayor de edad\")\n",
    "else:\n",
    "    print(\"Eres menor de edad\")\n",
    "\n",
    "# Condicional con múltiples opciones\n",
    "nota = 85\n",
    "\n",
    "if nota >= 90:\n",
    "    print(\"Excelente\")\n",
    "elif nota >= 70:\n",
    "    print(\"Aprobado\")\n",
    "else:\n",
    "    print(\"Reprobado\")\n",
    "\n",
    "```\n",
    "\n",
    "El código del ejemplo anterior utiliza estructuras condicionales en Python para verificar la edad y la nota de un alumno y mostrar un mensaje correspondiente.\n",
    "\n",
    "---"
   ]
  },
  {
   "cell_type": "code",
   "execution_count": null,
   "id": "73785f3e",
   "metadata": {},
   "outputs": [],
   "source": [
    "edad = 18\n",
    "\n",
    "# Estructura condicional básica\n",
    "if edad >= 18:\n",
    "    print(\"Eres mayor de edad\")\n",
    "else:\n",
    "    print(\"Eres menor de edad\")\n",
    "\n",
    "# Condicional con múltiples opciones\n",
    "nota = 85\n",
    "\n",
    "if nota >= 90:\n",
    "    print(\"Excelente\")\n",
    "elif nota >= 70:\n",
    "    print(\"Aprobado\")\n",
    "else:\n",
    "    print(\"Reprobado\")"
   ]
  },
  {
   "cell_type": "markdown",
   "id": "5d987253",
   "metadata": {},
   "source": [
    "📌 El bloque elif permite evaluar múltiples condiciones. El bloque else captura todos los casos restantes."
   ]
  },
  {
   "cell_type": "markdown",
   "id": "eeccc06a",
   "metadata": {},
   "source": [
    "# **Bucle (for)**"
   ]
  },
  {
   "cell_type": "markdown",
   "id": "a8ba9b6a",
   "metadata": {},
   "source": [
    "## **¿Qué es un bucle `for`?**\n",
    "\n",
    "Es una estructura de control que permite iterar sobre una secuencia de elementos, como una lista o una cadena de caracteres, y ejecutar un bloque de códig\n",
    "\n",
    "---"
   ]
  },
  {
   "cell_type": "code",
   "execution_count": 4,
   "id": "0e61333a",
   "metadata": {},
   "outputs": [
    {
     "name": "stdout",
     "output_type": "stream",
     "text": [
      "Fruta: manzana\n",
      "Fruta: pera\n",
      "Fruta: uva\n",
      "Número: 0\n",
      "Número: 1\n",
      "Número: 2\n",
      "Número: 3\n",
      "Número: 4\n",
      "Índice 0: manzana\n",
      "Índice 1: pera\n",
      "Índice 2: uva\n"
     ]
    }
   ],
   "source": [
    "# Iterar sobre una lista\n",
    "frutas = [\"manzana\", \"pera\", \"uva\"]\n",
    "\n",
    "for fruta in frutas:\n",
    "    print(\"Fruta:\", fruta)\n",
    "\n",
    "# Iterar usando `range()`\n",
    "for i in range(5):  # 0, 1, 2, 3, 4\n",
    "    print(\"Número:\", i)\n",
    "\n",
    "# Iterar con índice y valor usando `enumerate()`\n",
    "for i, fruta in enumerate(frutas):\n",
    "    print(f\"Índice {i}: {fruta}\")"
   ]
  },
  {
   "cell_type": "markdown",
   "id": "87fd815b",
   "metadata": {},
   "source": [
    "# Bucle (while)"
   ]
  },
  {
   "cell_type": "code",
   "execution_count": null,
   "id": "2e2c5d91",
   "metadata": {},
   "outputs": [],
   "source": [
    "# Ejecuta mientras la condición sea verdadera\n",
    "contador = 0\n",
    "\n",
    "while contador < 5:\n",
    "    print(\"Contador:\", contador)\n",
    "    contador += 1"
   ]
  },
  {
   "cell_type": "markdown",
   "id": "9a370b3a",
   "metadata": {},
   "source": [
    "⚠️ Precaución: Asegúrese de que la condición cambie, o se generará un bucle infinito."
   ]
  },
  {
   "cell_type": "markdown",
   "id": "2694adbe",
   "metadata": {},
   "source": [
    "# Instrucciones (break, continue y pass)"
   ]
  },
  {
   "cell_type": "code",
   "execution_count": null,
   "id": "3a6dfb49",
   "metadata": {},
   "outputs": [],
   "source": [
    "# break: termina el bucle\n",
    "for numero in range(10):\n",
    "    if numero == 5:\n",
    "        break # termina el bucle\n",
    "    print(\"Número con break:\", numero)\n",
    "\n",
    "# continue: salta a la siguiente iteración\n",
    "for numero in range(5):\n",
    "    if numero == 2:\n",
    "        continue # salta el 2\n",
    "    print(\"Número con continue:\", numero)\n",
    "\n",
    "# pass: no hace nada (bloque vacío)\n",
    "for letra in \"ABC\":\n",
    "    pass  # útil como marcador de posición"
   ]
  },
  {
   "cell_type": "markdown",
   "id": "46de0335",
   "metadata": {},
   "source": [
    "# Operadores de comparación y lógicos"
   ]
  },
  {
   "cell_type": "code",
   "execution_count": null,
   "id": "b67f3093",
   "metadata": {},
   "outputs": [],
   "source": [
    "# Comparaciones\n",
    "print(5 == 5)   # Igual\n",
    "print(5 != 3)   # Distinto\n",
    "print(7 > 4)    # Mayor\n",
    "print(2 <= 2)   # Menor o igual\n",
    "\n",
    "# Lógicos\n",
    "a = True\n",
    "b = False\n",
    "print(a and b)  # False\n",
    "print(a or b)   # True\n",
    "print(not a)    # False"
   ]
  }
 ],
 "metadata": {
  "kernelspec": {
   "display_name": "Python 3",
   "language": "python",
   "name": "python3"
  },
  "language_info": {
   "codemirror_mode": {
    "name": "ipython",
    "version": 3
   },
   "file_extension": ".py",
   "mimetype": "text/x-python",
   "name": "python",
   "nbconvert_exporter": "python",
   "pygments_lexer": "ipython3",
   "version": "3.12.1"
  }
 },
 "nbformat": 4,
 "nbformat_minor": 5
}
